{
 "cells": [
  {
   "cell_type": "code",
   "execution_count": 9,
   "metadata": {
    "collapsed": true
   },
   "outputs": [],
   "source": [
    "import json\n",
    "from collections import defaultdict\n",
    "import matplotlib.pyplot as plt"
   ]
  },
  {
   "cell_type": "code",
   "execution_count": 2,
   "metadata": {},
   "outputs": [],
   "source": [
    "with open(\"C:\\\\Users\\Zuza\\Desktop\\jsondata.json\", 'r') as file:\n",
    "    data = json.loads(file.read())"
   ]
  },
  {
   "cell_type": "code",
   "execution_count": 4,
   "metadata": {
    "collapsed": true
   },
   "outputs": [
    {
     "data": {
      "text/plain": [
       "{'',\n 'alcohol.alcoholOther',\n 'alcohol.alcohol_plastic_cups',\n 'alcohol.beerBottle',\n 'alcohol.beerCan',\n 'alcohol.bottleTops',\n 'alcohol.brokenGlass',\n 'alcohol.paperCardAlcoholPackaging',\n 'alcohol.pint',\n 'alcohol.plasticAlcoholPackaging',\n 'alcohol.six_pack_rings',\n 'alcohol.spiritBottle',\n 'alcohol.wineBottle',\n 'brands.adidas',\n 'brands.aldi',\n 'brands.amazon',\n 'brands.apple',\n 'brands.asahi',\n 'brands.bewleys',\n 'brands.budweiser',\n 'brands.bulmers',\n 'brands.burgerking',\n 'brands.cadburys',\n 'brands.cafe_nero',\n 'brands.camel',\n 'brands.carlsberg',\n 'brands.centra',\n 'brands.circlek',\n 'brands.coke',\n 'brands.coles',\n 'brands.colgate',\n 'brands.corona',\n 'brands.costa',\n 'brands.doritos',\n 'brands.drpepper',\n 'brands.dunnes',\n 'brands.duracell',\n 'brands.durex',\n 'brands.esquires',\n 'brands.frank_and_honest',\n 'brands.fritolay',\n 'brands.gatorade',\n 'brands.gillette',\n 'brands.guinness',\n 'brands.haribo',\n 'brands.heineken',\n 'brands.insomnia',\n 'brands.kellogs',\n 'brands.kfc',\n 'brands.lego',\n 'brands.lidl',\n 'brands.lindenvillage',\n 'brands.lolly_and_cookes',\n 'brands.loreal',\n 'brands.lucozade',\n 'brands.marlboro',\n 'brands.mars',\n 'brands.mcdonalds',\n 'brands.nescafe',\n 'brands.nestle',\n 'brands.nike',\n 'brands.obriens',\n 'brands.pepsi',\n 'brands.powerade',\n 'brands.redbull',\n 'brands.ribena',\n 'brands.sainsburys',\n 'brands.samsung',\n 'brands.spar',\n 'brands.starbucks',\n 'brands.stella',\n 'brands.subway',\n 'brands.supermacs',\n 'brands.supervalu',\n 'brands.tayto',\n 'brands.tesco',\n 'brands.thins',\n 'brands.volvic',\n 'brands.waitrose',\n 'brands.walkers',\n 'brands.wilde_and_greene',\n 'brands.woolworths',\n 'brands.wrigleys',\n 'coastal.balloons',\n 'coastal.buoys',\n 'coastal.coastal_other',\n 'coastal.degraded_lighters',\n 'coastal.degraded_plasticbag',\n 'coastal.degraded_plasticbottle',\n 'coastal.degraded_straws',\n 'coastal.fishing_gear_nets',\n 'coastal.lego',\n 'coastal.macroplastics',\n 'coastal.mediumplastics',\n 'coastal.microplastics',\n 'coastal.rope_large',\n 'coastal.rope_medium',\n 'coastal.rope_small',\n 'coastal.shotgun_cartridges',\n 'coastal.styro_large',\n 'coastal.styro_medium',\n 'coastal.styro_small',\n 'coffee.coffeeCups',\n 'coffee.coffeeLids',\n 'coffee.coffeeOther',\n 'dumping.large',\n 'dumping.medium',\n 'dumping.small',\n 'food.aluminium_foil',\n 'food.crisp_large',\n 'food.crisp_small',\n 'food.foodOther',\n 'food.glass_jar',\n 'food.glass_jar_lid',\n 'food.napkins',\n 'food.paperFoodPackaging',\n 'food.pizza_box',\n 'food.plasticCutlery',\n 'food.plasticFoodPackaging',\n 'food.styrofoam_plate',\n 'food.sweetWrappers',\n 'industrial.bricks',\n 'industrial.chemical',\n 'industrial.oil',\n 'industrial.tape',\n 'other.bags_litter',\n 'other.balloons',\n 'other.batteries',\n 'other.books',\n 'other.cable_tie',\n 'other.dogshit',\n 'other.dump',\n 'other.ear_plugs',\n 'other.elec_large',\n 'other.elec_small',\n 'other.election_posters',\n 'other.forsale_posters',\n 'other.hair_tie',\n 'other.metal',\n 'other.other',\n 'other.overflowing_bins',\n 'other.paper',\n 'other.plastic',\n 'other.random_litter',\n 'other.stationary',\n 'other.tyre',\n 'other.washing_up',\n 'sanitary.condoms',\n 'sanitary.deodorant',\n 'sanitary.facemask',\n 'sanitary.gloves',\n 'sanitary.hand_sanitiser',\n 'sanitary.menstral',\n 'sanitary.nappies',\n 'sanitary.sanitaryOther',\n 'sanitary.tooth_brush',\n 'sanitary.tooth_pick',\n 'sanitary.wetwipes',\n 'smoking.butts',\n 'smoking.cigaretteBox',\n 'smoking.filterbox',\n 'smoking.filters',\n 'smoking.lighters',\n 'smoking.skins',\n 'smoking.smokingOther',\n 'smoking.smoking_plastic',\n 'smoking.tobaccoPouch',\n 'smoking.vape_oil',\n 'smoking.vape_pen',\n 'softdrinks.bottleLabel',\n 'softdrinks.bottleLid',\n 'softdrinks.energy_can',\n 'softdrinks.fizzyDrinkBottle',\n 'softdrinks.ice_tea_bottles',\n 'softdrinks.ice_tea_can',\n 'softdrinks.juice_bottles',\n 'softdrinks.juice_cartons',\n 'softdrinks.juice_packet',\n 'softdrinks.milk_bottle',\n 'softdrinks.milk_carton',\n 'softdrinks.paper_cups',\n 'softdrinks.plastic_cup_tops',\n 'softdrinks.plastic_cups',\n 'softdrinks.sportsDrink',\n 'softdrinks.straws',\n 'softdrinks.tinCan',\n 'softdrinks.waterBottle'}"
      ]
     },
     "execution_count": 4,
     "metadata": {},
     "output_type": "execute_result"
    }
   ],
   "source": [
    "categories = set()\n",
    "for feature in data['features']:\n",
    "    splitted_feature = feature['properties']['result_string'].split(',')\n",
    "    for cat in splitted_feature:\n",
    "        splitted_cat = cat.split(' ')[0]\n",
    "        categories.add(splitted_cat)\n",
    "        \n",
    "categories           "
   ]
  },
  {
   "cell_type": "code",
   "execution_count": 5,
   "metadata": {
    "collapsed": true
   },
   "outputs": [
    {
     "data": {
      "text/plain": [
       "defaultdict(set,\n            {'coastal': {'balloons',\n              'buoys',\n              'coastal_other',\n              'degraded_lighters',\n              'degraded_plasticbag',\n              'degraded_plasticbottle',\n              'degraded_straws',\n              'fishing_gear_nets',\n              'lego',\n              'macroplastics',\n              'mediumplastics',\n              'microplastics',\n              'rope_large',\n              'rope_medium',\n              'rope_small',\n              'shotgun_cartridges',\n              'styro_large',\n              'styro_medium',\n              'styro_small'},\n             'coffee': {'coffeeCups', 'coffeeLids', 'coffeeOther'},\n             'industrial': {'bricks', 'chemical', 'oil', 'tape'},\n             'sanitary': {'condoms',\n              'deodorant',\n              'facemask',\n              'gloves',\n              'hand_sanitiser',\n              'menstral',\n              'nappies',\n              'sanitaryOther',\n              'tooth_brush',\n              'tooth_pick',\n              'wetwipes'},\n             'brands': {'adidas',\n              'aldi',\n              'amazon',\n              'apple',\n              'asahi',\n              'bewleys',\n              'budweiser',\n              'bulmers',\n              'burgerking',\n              'cadburys',\n              'cafe_nero',\n              'camel',\n              'carlsberg',\n              'centra',\n              'circlek',\n              'coke',\n              'coles',\n              'colgate',\n              'corona',\n              'costa',\n              'doritos',\n              'drpepper',\n              'dunnes',\n              'duracell',\n              'durex',\n              'esquires',\n              'frank_and_honest',\n              'fritolay',\n              'gatorade',\n              'gillette',\n              'guinness',\n              'haribo',\n              'heineken',\n              'insomnia',\n              'kellogs',\n              'kfc',\n              'lego',\n              'lidl',\n              'lindenvillage',\n              'lolly_and_cookes',\n              'loreal',\n              'lucozade',\n              'marlboro',\n              'mars',\n              'mcdonalds',\n              'nescafe',\n              'nestle',\n              'nike',\n              'obriens',\n              'pepsi',\n              'powerade',\n              'redbull',\n              'ribena',\n              'sainsburys',\n              'samsung',\n              'spar',\n              'starbucks',\n              'stella',\n              'subway',\n              'supermacs',\n              'supervalu',\n              'tayto',\n              'tesco',\n              'thins',\n              'volvic',\n              'waitrose',\n              'walkers',\n              'wilde_and_greene',\n              'woolworths',\n              'wrigleys'},\n             'softdrinks': {'bottleLabel',\n              'bottleLid',\n              'energy_can',\n              'fizzyDrinkBottle',\n              'ice_tea_bottles',\n              'ice_tea_can',\n              'juice_bottles',\n              'juice_cartons',\n              'juice_packet',\n              'milk_bottle',\n              'milk_carton',\n              'paper_cups',\n              'plastic_cup_tops',\n              'plastic_cups',\n              'sportsDrink',\n              'straws',\n              'tinCan',\n              'waterBottle'},\n             'other': {'bags_litter',\n              'balloons',\n              'batteries',\n              'books',\n              'cable_tie',\n              'dogshit',\n              'dump',\n              'ear_plugs',\n              'elec_large',\n              'elec_small',\n              'election_posters',\n              'forsale_posters',\n              'hair_tie',\n              'metal',\n              'other',\n              'overflowing_bins',\n              'paper',\n              'plastic',\n              'random_litter',\n              'stationary',\n              'tyre',\n              'washing_up'},\n             'food': {'aluminium_foil',\n              'crisp_large',\n              'crisp_small',\n              'foodOther',\n              'glass_jar',\n              'glass_jar_lid',\n              'napkins',\n              'paperFoodPackaging',\n              'pizza_box',\n              'plasticCutlery',\n              'plasticFoodPackaging',\n              'styrofoam_plate',\n              'sweetWrappers'},\n             'alcohol': {'alcoholOther',\n              'alcohol_plastic_cups',\n              'beerBottle',\n              'beerCan',\n              'bottleTops',\n              'brokenGlass',\n              'paperCardAlcoholPackaging',\n              'pint',\n              'plasticAlcoholPackaging',\n              'six_pack_rings',\n              'spiritBottle',\n              'wineBottle'},\n             'dumping': {'large', 'medium', 'small'},\n             'smoking': {'butts',\n              'cigaretteBox',\n              'filterbox',\n              'filters',\n              'lighters',\n              'skins',\n              'smokingOther',\n              'smoking_plastic',\n              'tobaccoPouch',\n              'vape_oil',\n              'vape_pen'}})"
      ]
     },
     "execution_count": 5,
     "metadata": {},
     "output_type": "execute_result"
    }
   ],
   "source": [
    "categories_dict = defaultdict(set)\n",
    "for category in categories:\n",
    "    splitted_cat = category.split('.')\n",
    "    if len(splitted_cat) > 1:\n",
    "        categories_dict[splitted_cat[0]].add(splitted_cat[1])\n",
    "    \n",
    "categories_dict"
   ]
  },
  {
   "cell_type": "code",
   "execution_count": 13,
   "metadata": {
    "collapsed": true
   },
   "outputs": [
    {
     "data": {
      "text/plain": [
       "{'': 0,\n 'coastal.microplastics': 1241,\n 'coffee.coffeeCups': 847,\n 'industrial.bricks': 11,\n 'sanitary.hand_sanitiser': 12,\n 'brands.lego': 1,\n 'softdrinks.milk_carton': 73,\n 'softdrinks.straws': 909,\n 'other.overflowing_bins': 12,\n 'food.crisp_large': 82,\n 'brands.cafe_nero': 1,\n 'alcohol.paperCardAlcoholPackaging': 115,\n 'brands.burgerking': 29,\n 'food.foodOther': 891,\n 'brands.insomnia': 3,\n 'industrial.tape': 13,\n 'brands.guinness': 23,\n 'alcohol.alcoholOther': 90,\n 'sanitary.tooth_pick': 14,\n 'brands.frank_and_honest': 2,\n 'brands.wilde_and_greene': 1,\n 'dumping.large': 29,\n 'brands.heineken': 1143,\n 'brands.corona': 66,\n 'brands.costa': 221,\n 'other.balloons': 398,\n 'brands.lindenvillage': 1,\n 'alcohol.beerBottle': 703,\n 'food.paperFoodPackaging': 2046,\n 'brands.obriens': 1,\n 'brands.starbucks': 34,\n 'brands.durex': 1,\n 'brands.marlboro': 29,\n 'other.bags_litter': 60,\n 'brands.budweiser': 155,\n 'smoking.filters': 154,\n 'coastal.macroplastics': 156,\n 'coastal.shotgun_cartridges': 63,\n 'brands.mcdonalds': 1110,\n 'smoking.vape_pen': 11,\n 'other.books': 15,\n 'brands.doritos': 38,\n 'brands.colgate': 2,\n 'other.elec_large': 35,\n 'other.tyre': 17,\n 'brands.bewleys': 3,\n 'softdrinks.fizzyDrinkBottle': 1338,\n 'coffee.coffeeOther': 180,\n 'other.election_posters': 49,\n 'brands.dunnes': 1,\n 'softdrinks.milk_bottle': 198,\n 'food.plasticFoodPackaging': 2433,\n 'brands.esquires': 1,\n 'smoking.smokingOther': 125,\n 'brands.volvic': 43,\n 'other.plastic': 13137,\n 'brands.asahi': 1,\n 'industrial.chemical': 7,\n 'alcohol.beerCan': 5002,\n 'brands.kfc': 103,\n 'alcohol.bottleTops': 421,\n 'coastal.rope_medium': 140,\n 'food.glass_jar': 48,\n 'coastal.degraded_plasticbottle': 116,\n 'coastal.balloons': 78,\n 'brands.thins': 1,\n 'coastal.degraded_plasticbag': 191,\n 'other.random_litter': 794,\n 'alcohol.plasticAlcoholPackaging': 142,\n 'softdrinks.energy_can': 5601,\n 'other.ear_plugs': 20,\n 'brands.adidas': 7,\n 'softdrinks.bottleLabel': 99,\n 'industrial.oil': 7,\n 'brands.kellogs': 5,\n 'softdrinks.plastic_cups': 635,\n 'brands.mars': 134,\n 'brands.stella': 226,\n 'food.plasticCutlery': 269,\n 'smoking.lighters': 65,\n 'brands.wrigleys': 61,\n 'coastal.fishing_gear_nets': 281,\n 'other.metal': 424,\n 'brands.redbull': 3612,\n 'alcohol.six_pack_rings': 19,\n 'coastal.mediumplastics': 218,\n 'smoking.cigaretteBox': 1077,\n 'sanitary.menstral': 62,\n 'softdrinks.paper_cups': 507,\n 'other.hair_tie': 87,\n 'coastal.rope_large': 45,\n 'brands.woolworths': 6,\n 'brands.ribena': 35,\n 'brands.gillette': 1,\n 'softdrinks.tinCan': 4416,\n 'alcohol.wineBottle': 136,\n 'brands.sainsburys': 21,\n 'brands.fritolay': 4,\n 'sanitary.facemask': 785,\n 'brands.nescafe': 14,\n 'brands.amazon': 4,\n 'food.glass_jar_lid': 15,\n 'brands.haribo': 70,\n 'brands.nestle': 163,\n 'sanitary.nappies': 121,\n 'brands.supermacs': 3,\n 'dumping.small': 139,\n 'alcohol.pint': 18,\n 'other.forsale_posters': 32,\n 'softdrinks.ice_tea_can': 23,\n 'coastal.degraded_lighters': 19,\n 'brands.waitrose': 1,\n 'smoking.butts': 12387,\n 'other.dogshit': 345,\n 'other.other': 1717,\n 'food.pizza_box': 19,\n 'softdrinks.bottleLid': 770,\n 'brands.coke': 877,\n 'food.styrofoam_plate': 329,\n 'alcohol.brokenGlass': 702,\n 'smoking.smoking_plastic': 324,\n 'coastal.styro_small': 409,\n 'coastal.styro_medium': 215,\n 'alcohol.spiritBottle': 192,\n 'brands.pepsi': 235,\n 'food.aluminium_foil': 134,\n 'softdrinks.waterBottle': 3096,\n 'other.batteries': 36,\n 'other.stationary': 126,\n 'brands.tesco': 110,\n 'other.cable_tie': 32,\n 'brands.carlsberg': 57,\n 'brands.lucozade': 301,\n 'other.washing_up': 23,\n 'softdrinks.plastic_cup_tops': 366,\n 'coastal.degraded_straws': 19,\n 'food.crisp_small': 1360,\n 'brands.circlek': 7,\n 'brands.apple': 1,\n 'brands.tayto': 9,\n 'sanitary.tooth_brush': 11,\n 'brands.supervalu': 2,\n 'smoking.vape_oil': 13,\n 'brands.cadburys': 437,\n 'brands.spar': 22,\n 'sanitary.deodorant': 19,\n 'sanitary.gloves': 1216,\n 'brands.nike': 1,\n 'brands.lolly_and_cookes': 1,\n 'sanitary.sanitaryOther': 1914,\n 'brands.aldi': 9,\n 'brands.lidl': 2,\n 'brands.walkers': 2,\n 'sanitary.condoms': 26,\n 'coastal.styro_large': 35,\n 'brands.camel': 10,\n 'alcohol.alcohol_plastic_cups': 19,\n 'brands.subway': 42,\n 'softdrinks.juice_cartons': 97,\n 'brands.loreal': 1,\n 'brands.duracell': 1,\n 'brands.bulmers': 16,\n 'food.sweetWrappers': 3869,\n 'food.napkins': 305,\n 'coastal.coastal_other': 574,\n 'other.elec_small': 68,\n 'softdrinks.juice_packet': 62,\n 'softdrinks.sportsDrink': 177,\n 'coffee.coffeeLids': 543,\n 'brands.gatorade': 11,\n 'smoking.filterbox': 31,\n 'dumping.medium': 71,\n 'other.dump': 5514,\n 'other.paper': 1867,\n 'brands.drpepper': 63,\n 'smoking.skins': 79,\n 'coastal.lego': 15,\n 'brands.samsung': 2,\n 'softdrinks.ice_tea_bottles': 29,\n 'coastal.buoys': 13,\n 'softdrinks.juice_bottles': 240,\n 'brands.powerade': 8,\n 'brands.coles': 1,\n 'sanitary.wetwipes': 1142,\n 'coastal.rope_small': 741,\n 'brands.centra': 5,\n 'smoking.tobaccoPouch': 102}"
      ]
     },
     "execution_count": 13,
     "metadata": {},
     "output_type": "execute_result"
    }
   ],
   "source": [
    "item_histogram = {category: 0 for category in categories}\n",
    "for feature in data['features']:\n",
    "    splitted_cat = feature['properties']['result_string'].split(',')\n",
    "    for cat in splitted_cat:\n",
    "        if len(cat) > 1:\n",
    "            item_histogram[cat.split(' ')[0]] += int(cat.split(' ')[1])\n",
    "\n",
    "\n",
    "item_histogram\n"
   ]
  },
  {
   "cell_type": "code",
   "execution_count": 18,
   "metadata": {},
   "outputs": [
    {
     "name": "stdout",
     "output_type": "stream",
     "text": [
      "{'coastal': 4569, 'coffee': 1570, 'industrial': 38, 'sanitary': 5322, 'brands': 9614, 'softdrinks': 18636, 'other': 24808, 'food': 11800, 'alcohol': 7559, 'dumping': 239, 'smoking': 14368}\n"
     ]
    },
    {
     "data": {
      "text/plain": [
       "<BarContainer object of 11 artists>"
      ]
     },
     "execution_count": 18,
     "metadata": {},
     "output_type": "execute_result"
    },
    {
     "data": {
      "image/png": "[encoded data removed]",
      "text/plain": [
       "<Figure size 432x288 with 1 Axes>"
      ]
     },
     "metadata": {},
     "output_type": "display_data"
    }
   ],
   "source": [
    "main_item_histogram = {main_category: 0 for main_category in categories_dict}\n",
    "for feature in data['features']:\n",
    "    splitted_feature = feature['properties']['result_string'].split(',')\n",
    "    for cat in splitted_feature:\n",
    "        splitted_cat = cat.split(' ')\n",
    "        main_cat = splitted_cat[0].split('.')[0]\n",
    "        if len(main_cat) > 1:\n",
    "            main_item_histogram[main_cat] += int(splitted_cat[1])\n",
    "\n",
    "print(main_item_histogram)\n",
    "keys = main_item_histogram.keys()\n",
    "values = main_item_histogram.values()\n",
    "plt.bar(keys,values)"
   ]
  },
  {
   "cell_type": "code",
   "execution_count": 7,
   "metadata": {},
   "outputs": [
    {
     "name": "stdout",
     "output_type": "stream",
     "text": [
      "there are 11 main categories and 187 subcategories\n"
     ]
    }
   ],
   "source": [
    "print(f'there are {len(categories_dict)} main categories and {len(categories)} subcategories')"
   ]
  },
  {
   "cell_type": "code",
   "execution_count": 22,
   "metadata": {
    "collapsed": true
   },
   "outputs": [
    {
     "data": {
      "text/plain": [
       "{'',\n 'alcohol.alcoholOther 1',\n 'alcohol.alcohol_plastic_cups 1',\n 'alcohol.beerBottle 1',\n 'alcohol.beerBottle 10',\n 'alcohol.beerBottle 16',\n 'alcohol.beerBottle 2',\n 'alcohol.beerBottle 20',\n 'alcohol.beerBottle 3',\n 'alcohol.beerBottle 4',\n 'alcohol.beerBottle 5',\n 'alcohol.beerBottle 6',\n 'alcohol.beerBottle 7',\n 'alcohol.beerBottle 8',\n 'alcohol.beerCan 1',\n 'alcohol.beerCan 10',\n 'alcohol.beerCan 11',\n 'alcohol.beerCan 12',\n 'alcohol.beerCan 17',\n 'alcohol.beerCan 2',\n 'alcohol.beerCan 20',\n 'alcohol.beerCan 25',\n 'alcohol.beerCan 3',\n 'alcohol.beerCan 4',\n 'alcohol.beerCan 5',\n 'alcohol.beerCan 6',\n 'alcohol.beerCan 7',\n 'alcohol.beerCan 8',\n 'alcohol.beerCan 9',\n 'alcohol.bottleTops 1',\n 'alcohol.bottleTops 10',\n 'alcohol.bottleTops 2',\n 'alcohol.bottleTops 3',\n 'alcohol.brokenGlass 1',\n 'alcohol.brokenGlass 10',\n 'alcohol.brokenGlass 15',\n 'alcohol.brokenGlass 16',\n 'alcohol.brokenGlass 18',\n 'alcohol.brokenGlass 2',\n 'alcohol.brokenGlass 3',\n 'alcohol.brokenGlass 4',\n 'alcohol.brokenGlass 5',\n 'alcohol.brokenGlass 6',\n 'alcohol.brokenGlass 7',\n 'alcohol.brokenGlass 9',\n 'alcohol.paperCardAlcoholPackaging 1',\n 'alcohol.pint 1',\n 'alcohol.plasticAlcoholPackaging 1',\n 'alcohol.six_pack_rings 1',\n 'alcohol.spiritBottle 1',\n 'alcohol.spiritBottle 2',\n 'alcohol.spiritBottle 3',\n 'alcohol.wineBottle 1',\n 'alcohol.wineBottle 14',\n 'alcohol.wineBottle 2',\n 'alcohol.wineBottle 3',\n 'alcohol.wineBottle 6',\n 'brands.adidas 1',\n 'brands.cadburys 1',\n 'brands.cadburys 3',\n 'brands.centra 1',\n 'brands.coke 1',\n 'brands.costa 1',\n 'brands.drpepper 1',\n 'brands.heineken 1',\n 'brands.heineken 3',\n 'brands.kfc 1',\n 'brands.lucozade 1',\n 'brands.mars 1',\n 'brands.mcdonalds 1',\n 'brands.mcdonalds 2',\n 'brands.pepsi 1',\n 'brands.powerade 1',\n 'brands.redbull 1',\n 'brands.ribena 1',\n 'brands.sainsburys 1',\n 'brands.spar 1',\n 'brands.tesco 1',\n 'brands.woolworths 1',\n 'coastal.balloons 1',\n 'coastal.balloons 17',\n 'coastal.balloons 2',\n 'coastal.buoys 1',\n 'coastal.coastal_other 1',\n 'coastal.coastal_other 2',\n 'coastal.coastal_other 3',\n 'coastal.coastal_other 4',\n 'coastal.coastal_other 6',\n 'coastal.coastal_other 8',\n 'coastal.degraded_lighters 1',\n 'coastal.degraded_plasticbag 1',\n 'coastal.degraded_plasticbag 2',\n 'coastal.degraded_plasticbag 22',\n 'coastal.degraded_plasticbag 30',\n 'coastal.degraded_plasticbag 6',\n 'coastal.degraded_plasticbag 9',\n 'coastal.degraded_plasticbottle 1',\n 'coastal.degraded_plasticbottle 10',\n 'coastal.degraded_plasticbottle 2',\n 'coastal.degraded_plasticbottle 3',\n 'coastal.degraded_plasticbottle 4',\n 'coastal.degraded_plasticbottle 5',\n 'coastal.degraded_plasticbottle 8',\n 'coastal.degraded_straws 1',\n 'coastal.fishing_gear_nets 1',\n 'coastal.fishing_gear_nets 4',\n 'coastal.macroplastics 1',\n 'coastal.macroplastics 2',\n 'coastal.macroplastics 4',\n 'coastal.mediumplastics 1',\n 'coastal.mediumplastics 11',\n 'coastal.mediumplastics 2',\n 'coastal.mediumplastics 3',\n 'coastal.mediumplastics 4',\n 'coastal.mediumplastics 9',\n 'coastal.microplastics 1',\n 'coastal.microplastics 100',\n 'coastal.microplastics 11',\n 'coastal.microplastics 12',\n 'coastal.microplastics 14',\n 'coastal.microplastics 15',\n 'coastal.microplastics 17',\n 'coastal.microplastics 19',\n 'coastal.microplastics 2',\n 'coastal.microplastics 23',\n 'coastal.microplastics 3',\n 'coastal.microplastics 36',\n 'coastal.microplastics 4',\n 'coastal.microplastics 44',\n 'coastal.microplastics 5',\n 'coastal.microplastics 53',\n 'coastal.microplastics 6',\n 'coastal.microplastics 7',\n 'coastal.rope_large 1',\n 'coastal.rope_medium 1',\n 'coastal.rope_medium 18',\n 'coastal.rope_small 1',\n 'coastal.rope_small 11',\n 'coastal.rope_small 15',\n 'coastal.rope_small 2',\n 'coastal.rope_small 3',\n 'coastal.rope_small 4',\n 'coastal.rope_small 5',\n 'coastal.rope_small 50',\n 'coastal.rope_small 6',\n 'coastal.rope_small 7',\n 'coastal.rope_small 9',\n 'coastal.shotgun_cartridges 1',\n 'coastal.shotgun_cartridges 2',\n 'coastal.styro_large 1',\n 'coastal.styro_large 2',\n 'coastal.styro_medium 1',\n 'coastal.styro_medium 10',\n 'coastal.styro_medium 11',\n 'coastal.styro_medium 2',\n 'coastal.styro_medium 3',\n 'coastal.styro_medium 4',\n 'coastal.styro_medium 6',\n 'coastal.styro_small 1',\n 'coastal.styro_small 10',\n 'coastal.styro_small 2',\n 'coastal.styro_small 25',\n 'coastal.styro_small 3',\n 'coastal.styro_small 4',\n 'coastal.styro_small 5',\n 'coastal.styro_small 6',\n 'coastal.styro_small 7',\n 'coastal.styro_small 8',\n 'coffee.coffeeCups 1',\n 'coffee.coffeeCups 2',\n 'coffee.coffeeCups 3',\n 'coffee.coffeeCups 5',\n 'coffee.coffeeCups 6',\n 'coffee.coffeeCups 8',\n 'coffee.coffeeLids 1',\n 'coffee.coffeeLids 13',\n 'coffee.coffeeLids 2',\n 'coffee.coffeeOther 1',\n 'coffee.coffeeOther 2',\n 'dumping.large 1',\n 'dumping.large 2',\n 'dumping.large 3',\n 'dumping.medium 1',\n 'dumping.medium 4',\n 'dumping.small 1',\n 'dumping.small 2',\n 'dumping.small 53',\n 'food.aluminium_foil 1',\n 'food.aluminium_foil 4',\n 'food.crisp_large 1',\n 'food.crisp_large 3',\n 'food.crisp_small 1',\n 'food.crisp_small 2',\n 'food.crisp_small 3',\n 'food.crisp_small 6',\n 'food.foodOther 1',\n 'food.foodOther 10',\n 'food.foodOther 2',\n 'food.foodOther 30',\n 'food.foodOther 4',\n 'food.foodOther 5',\n 'food.foodOther 6',\n 'food.foodOther 75',\n 'food.glass_jar 1',\n 'food.glass_jar 2',\n 'food.glass_jar 6',\n 'food.glass_jar_lid 1',\n 'food.napkins 1',\n 'food.napkins 2',\n 'food.napkins 3',\n 'food.napkins 6',\n 'food.napkins 8',\n 'food.paperFoodPackaging 1',\n 'food.paperFoodPackaging 10',\n 'food.paperFoodPackaging 11',\n 'food.paperFoodPackaging 17',\n 'food.paperFoodPackaging 2',\n 'food.paperFoodPackaging 3',\n 'food.paperFoodPackaging 4',\n 'food.paperFoodPackaging 5',\n 'food.paperFoodPackaging 6',\n 'food.paperFoodPackaging 7',\n 'food.paperFoodPackaging 9',\n 'food.pizza_box 1',\n 'food.pizza_box 3',\n 'food.plasticCutlery 1',\n 'food.plasticCutlery 2',\n 'food.plasticCutlery 3',\n 'food.plasticCutlery 8',\n 'food.plasticFoodPackaging 1',\n 'food.plasticFoodPackaging 100',\n 'food.plasticFoodPackaging 13',\n 'food.plasticFoodPackaging 19',\n 'food.plasticFoodPackaging 2',\n 'food.plasticFoodPackaging 3',\n 'food.plasticFoodPackaging 4',\n 'food.plasticFoodPackaging 5',\n 'food.plasticFoodPackaging 6',\n 'food.styrofoam_plate 1',\n 'food.styrofoam_plate 10',\n 'food.styrofoam_plate 11',\n 'food.styrofoam_plate 2',\n 'food.styrofoam_plate 3',\n 'food.styrofoam_plate 4',\n 'food.styrofoam_plate 5',\n 'food.styrofoam_plate 7',\n 'food.styrofoam_plate 8',\n 'food.sweetWrappers 1',\n 'food.sweetWrappers 10',\n 'food.sweetWrappers 11',\n 'food.sweetWrappers 14',\n 'food.sweetWrappers 2',\n 'food.sweetWrappers 3',\n 'food.sweetWrappers 30',\n 'food.sweetWrappers 32',\n 'food.sweetWrappers 4',\n 'food.sweetWrappers 5',\n 'food.sweetWrappers 6',\n 'food.sweetWrappers 7',\n 'food.sweetWrappers 8',\n 'industrial.chemical 2',\n 'industrial.oil 1',\n 'industrial.tape 1',\n 'other.bags_litter 1',\n 'other.bags_litter 10',\n 'other.bags_litter 11',\n 'other.bags_litter 15',\n 'other.bags_litter 2',\n 'other.bags_litter 3',\n 'other.balloons 1',\n 'other.balloons 2',\n 'other.balloons 5',\n 'other.batteries 1',\n 'other.batteries 2',\n 'other.books 1',\n 'other.cable_tie 1',\n 'other.dogshit 1',\n 'other.dogshit 2',\n 'other.dogshit 3',\n 'other.dogshit 4',\n 'other.dogshit 5',\n 'other.dogshit 7',\n 'other.dump 1',\n 'other.dump 10',\n 'other.dump 100',\n 'other.dump 11',\n 'other.dump 12',\n 'other.dump 15',\n 'other.dump 16',\n 'other.dump 17',\n 'other.dump 19',\n 'other.dump 2',\n 'other.dump 20',\n 'other.dump 25',\n 'other.dump 3',\n 'other.dump 30',\n 'other.dump 32',\n 'other.dump 37',\n 'other.dump 38',\n 'other.dump 4',\n 'other.dump 44',\n 'other.dump 49',\n 'other.dump 5',\n 'other.dump 50',\n 'other.dump 56',\n 'other.dump 6',\n 'other.dump 60',\n 'other.dump 62',\n 'other.dump 68',\n 'other.dump 7',\n 'other.dump 70',\n 'other.dump 72',\n 'other.dump 73',\n 'other.dump 79',\n 'other.dump 8',\n 'other.dump 80',\n 'other.dump 9',\n 'other.dump 90',\n 'other.dump 96',\n 'other.dump 98',\n 'other.elec_large 1',\n 'other.elec_small 1',\n 'other.elec_small 10',\n 'other.elec_small 3',\n 'other.election_posters 1',\n 'other.election_posters 9',\n 'other.forsale_posters 1',\n 'other.hair_tie 1',\n 'other.metal 1',\n 'other.metal 2',\n 'other.metal 20',\n 'other.metal 3',\n 'other.metal 38',\n 'other.metal 4',\n 'other.other 1',\n 'other.other 10',\n 'other.other 11',\n 'other.other 13',\n 'other.other 14',\n 'other.other 15',\n 'other.other 2',\n 'other.other 20',\n 'other.other 3',\n 'other.other 4',\n 'other.other 5',\n 'other.other 6',\n 'other.other 8',\n 'other.other 9',\n 'other.overflowing_bins 1',\n 'other.paper 1',\n 'other.paper 11',\n 'other.paper 2',\n 'other.paper 3',\n 'other.paper 4',\n 'other.paper 5',\n 'other.paper 6',\n 'other.paper 7',\n 'other.paper 8',\n 'other.plastic 1',\n 'other.plastic 10',\n 'other.plastic 100',\n 'other.plastic 12',\n 'other.plastic 13',\n 'other.plastic 15',\n 'other.plastic 2',\n 'other.plastic 20',\n 'other.plastic 27',\n 'other.plastic 3',\n 'other.plastic 30',\n 'other.plastic 31',\n 'other.plastic 4',\n 'other.plastic 5',\n 'other.plastic 50',\n 'other.plastic 6',\n 'other.plastic 7',\n 'other.plastic 8',\n 'other.plastic 99',\n 'other.random_litter 1',\n 'other.random_litter 10',\n 'other.random_litter 100',\n 'other.random_litter 15',\n 'other.random_litter 17',\n 'other.random_litter 2',\n 'other.random_litter 20',\n 'other.random_litter 3',\n 'other.random_litter 34',\n 'other.random_litter 4',\n 'other.random_litter 5',\n 'other.random_litter 6',\n 'other.random_litter 8',\n 'other.random_litter 9',\n 'other.stationary 1',\n 'other.stationary 10',\n 'other.stationary 3',\n 'other.stationary 30',\n 'other.tyre 1',\n 'other.tyre 2',\n 'other.washing_up 1',\n 'sanitary.condoms 1',\n 'sanitary.condoms 2',\n 'sanitary.condoms 3',\n 'sanitary.deodorant 1',\n 'sanitary.facemask 1',\n 'sanitary.facemask 2',\n 'sanitary.facemask 4',\n 'sanitary.gloves 1',\n 'sanitary.gloves 2',\n 'sanitary.gloves 3',\n 'sanitary.gloves 4',\n 'sanitary.menstral 1',\n 'sanitary.menstral 2',\n 'sanitary.menstral 4',\n 'sanitary.nappies 1',\n 'sanitary.nappies 2',\n 'sanitary.nappies 35',\n 'sanitary.nappies 4',\n 'sanitary.sanitaryOther 1',\n 'sanitary.sanitaryOther 10',\n 'sanitary.sanitaryOther 12',\n 'sanitary.sanitaryOther 2',\n 'sanitary.sanitaryOther 3',\n 'sanitary.sanitaryOther 4',\n 'sanitary.sanitaryOther 5',\n 'sanitary.sanitaryOther 6',\n 'sanitary.sanitaryOther 8',\n 'sanitary.tooth_brush 1',\n 'sanitary.tooth_pick 1',\n 'sanitary.wetwipes 1',\n 'sanitary.wetwipes 13',\n 'sanitary.wetwipes 17',\n 'sanitary.wetwipes 2',\n 'sanitary.wetwipes 3',\n 'sanitary.wetwipes 4',\n 'sanitary.wetwipes 5',\n 'sanitary.wetwipes 7',\n 'smoking.butts 1',\n 'smoking.butts 10',\n 'smoking.butts 11',\n 'smoking.butts 12',\n 'smoking.butts 13',\n 'smoking.butts 14',\n 'smoking.butts 15',\n 'smoking.butts 16',\n 'smoking.butts 17',\n 'smoking.butts 18',\n 'smoking.butts 19',\n 'smoking.butts 2',\n 'smoking.butts 20',\n 'smoking.butts 21',\n 'smoking.butts 22',\n 'smoking.butts 23',\n 'smoking.butts 24',\n 'smoking.butts 25',\n 'smoking.butts 27',\n 'smoking.butts 28',\n 'smoking.butts 3',\n 'smoking.butts 30',\n 'smoking.butts 31',\n 'smoking.butts 38',\n 'smoking.butts 4',\n 'smoking.butts 40',\n 'smoking.butts 43',\n 'smoking.butts 47',\n 'smoking.butts 5',\n 'smoking.butts 50',\n 'smoking.butts 53',\n 'smoking.butts 56',\n 'smoking.butts 6',\n 'smoking.butts 60',\n 'smoking.butts 63',\n 'smoking.butts 7',\n 'smoking.butts 8',\n 'smoking.butts 9',\n 'smoking.butts 99',\n 'smoking.cigaretteBox 1',\n 'smoking.cigaretteBox 2',\n 'smoking.cigaretteBox 3',\n 'smoking.cigaretteBox 4',\n 'smoking.filterbox 1',\n 'smoking.filters 1',\n 'smoking.filters 3',\n 'smoking.filters 4',\n 'smoking.lighters 1',\n 'smoking.lighters 2',\n 'smoking.skins 1',\n 'smoking.skins 2',\n 'smoking.skins 3',\n 'smoking.smokingOther 1',\n 'smoking.smokingOther 2',\n 'smoking.smokingOther 3',\n 'smoking.smoking_plastic 1',\n 'smoking.smoking_plastic 10',\n 'smoking.smoking_plastic 2',\n 'smoking.smoking_plastic 25',\n 'smoking.smoking_plastic 26',\n 'smoking.smoking_plastic 3',\n 'smoking.tobaccoPouch 1',\n 'smoking.tobaccoPouch 2',\n 'smoking.vape_oil 1',\n 'softdrinks.bottleLabel 1',\n 'softdrinks.bottleLid 1',\n 'softdrinks.bottleLid 11',\n 'softdrinks.bottleLid 16',\n 'softdrinks.bottleLid 2',\n 'softdrinks.bottleLid 3',\n 'softdrinks.bottleLid 4',\n 'softdrinks.energy_can 1',\n 'softdrinks.energy_can 2',\n 'softdrinks.energy_can 3',\n 'softdrinks.energy_can 4',\n 'softdrinks.fizzyDrinkBottle 1',\n 'softdrinks.fizzyDrinkBottle 2',\n 'softdrinks.fizzyDrinkBottle 20',\n 'softdrinks.fizzyDrinkBottle 3',\n 'softdrinks.fizzyDrinkBottle 4',\n 'softdrinks.fizzyDrinkBottle 5',\n 'softdrinks.fizzyDrinkBottle 6',\n 'softdrinks.fizzyDrinkBottle 9',\n 'softdrinks.ice_tea_bottles 1',\n 'softdrinks.ice_tea_can 1',\n 'softdrinks.juice_bottles 1',\n 'softdrinks.juice_bottles 2',\n 'softdrinks.juice_cartons 1',\n 'softdrinks.juice_packet 1',\n 'softdrinks.milk_bottle 1',\n 'softdrinks.milk_bottle 2',\n 'softdrinks.milk_carton 1',\n 'softdrinks.paper_cups 1',\n 'softdrinks.paper_cups 17',\n 'softdrinks.paper_cups 2',\n 'softdrinks.paper_cups 3',\n 'softdrinks.plastic_cup_tops 1',\n 'softdrinks.plastic_cup_tops 4',\n 'softdrinks.plastic_cups 1',\n 'softdrinks.plastic_cups 2',\n 'softdrinks.plastic_cups 3',\n 'softdrinks.sportsDrink 1',\n 'softdrinks.sportsDrink 2',\n 'softdrinks.straws 1',\n 'softdrinks.straws 2',\n 'softdrinks.straws 3',\n 'softdrinks.straws 4',\n 'softdrinks.tinCan 1',\n 'softdrinks.tinCan 15',\n 'softdrinks.tinCan 2',\n 'softdrinks.tinCan 3',\n 'softdrinks.tinCan 33',\n 'softdrinks.tinCan 4',\n 'softdrinks.tinCan 6',\n 'softdrinks.tinCan 9',\n 'softdrinks.waterBottle 1',\n 'softdrinks.waterBottle 10',\n 'softdrinks.waterBottle 12',\n 'softdrinks.waterBottle 19',\n 'softdrinks.waterBottle 2',\n 'softdrinks.waterBottle 25',\n 'softdrinks.waterBottle 3',\n 'softdrinks.waterBottle 4',\n 'softdrinks.waterBottle 5',\n 'softdrinks.waterBottle 55',\n 'softdrinks.waterBottle 6',\n 'softdrinks.waterBottle 8'}"
      ]
     },
     "execution_count": 22,
     "metadata": {},
     "output_type": "execute_result"
    }
   ],
   "source": [
    ""
   ]
  },
  {
   "cell_type": "code",
   "execution_count": 48,
   "metadata": {
    "collapsed": true
   },
   "outputs": [
    {
     "data": {
      "text/plain": [
       "defaultdict(set,\n            {'smoking': {'butts',\n              'cigaretteBox',\n              'filterbox',\n              'filters',\n              'lighters',\n              'skins',\n              'smokingOther',\n              'smoking_plastic',\n              'tobaccoPouch',\n              'vape_oil'},\n             'brands': {'adidas',\n              'cadburys',\n              'centra',\n              'coke',\n              'costa',\n              'drpepper',\n              'heineken',\n              'kfc',\n              'lucozade',\n              'mars',\n              'mcdonalds',\n              'pepsi',\n              'powerade',\n              'redbull',\n              'ribena',\n              'sainsburys',\n              'spar',\n              'tesco',\n              'woolworths'},\n             'coffee': {'coffeeCups', 'coffeeLids', 'coffeeOther'},\n             'coastal': {'balloons',\n              'buoys',\n              'coastal_other',\n              'degraded_lighters',\n              'degraded_plasticbag',\n              'degraded_plasticbottle',\n              'degraded_straws',\n              'fishing_gear_nets',\n              'macroplastics',\n              'mediumplastics',\n              'microplastics',\n              'rope_large',\n              'rope_medium',\n              'rope_small',\n              'shotgun_cartridges',\n              'styro_large',\n              'styro_medium',\n              'styro_small'},\n             'other': {'bags_litter',\n              'balloons',\n              'batteries',\n              'books',\n              'cable_tie',\n              'dogshit',\n              'dump',\n              'elec_large',\n              'elec_small',\n              'election_posters',\n              'forsale_posters',\n              'hair_tie',\n              'metal',\n              'other',\n              'overflowing_bins',\n              'paper',\n              'plastic',\n              'random_litter',\n              'stationary',\n              'tyre',\n              'washing_up'},\n             'sanitary': {'condoms',\n              'deodorant',\n              'facemask',\n              'gloves',\n              'menstral',\n              'nappies',\n              'sanitaryOther',\n              'tooth_brush',\n              'tooth_pick',\n              'wetwipes'},\n             'alcohol': {'alcoholOther',\n              'alcohol_plastic_cups',\n              'beerBottle',\n              'beerCan',\n              'bottleTops',\n              'brokenGlass',\n              'paperCardAlcoholPackaging',\n              'pint',\n              'plasticAlcoholPackaging',\n              'six_pack_rings',\n              'spiritBottle',\n              'wineBottle'},\n             'softdrinks': {'bottleLabel',\n              'bottleLid',\n              'energy_can',\n              'fizzyDrinkBottle',\n              'ice_tea_bottles',\n              'ice_tea_can',\n              'juice_bottles',\n              'juice_cartons',\n              'juice_packet',\n              'milk_bottle',\n              'milk_carton',\n              'paper_cups',\n              'plastic_cup_tops',\n              'plastic_cups',\n              'sportsDrink',\n              'straws',\n              'tinCan',\n              'waterBottle'},\n             'dumping': {'large', 'medium', 'small'},\n             'food': {'aluminium_foil',\n              'crisp_large',\n              'crisp_small',\n              'foodOther',\n              'glass_jar',\n              'glass_jar_lid',\n              'napkins',\n              'paperFoodPackaging',\n              'pizza_box',\n              'plasticCutlery',\n              'plasticFoodPackaging',\n              'styrofoam_plate',\n              'sweetWrappers'},\n             'industrial': {'chemical', 'oil', 'tape'}})"
      ]
     },
     "execution_count": 48,
     "metadata": {},
     "output_type": "execute_result"
    }
   ],
   "source": [
    ""
   ]
  },
  {
   "cell_type": "code",
   "execution_count": null,
   "metadata": {},
   "outputs": [],
   "source": []
  }
 ],
 "metadata": {
  "kernelspec": {
   "display_name": "Python 2",
   "language": "python",
   "name": "python2"
  },
  "language_info": {
   "codemirror_mode": {
    "name": "ipython",
    "version": 2
   },
   "file_extension": ".py",
   "mimetype": "text/x-python",
   "name": "python",
   "nbconvert_exporter": "python",
   "pygments_lexer": "ipython2",
   "version": "2.7.6"
  }
 },
 "nbformat": 4,
 "nbformat_minor": 0
}
